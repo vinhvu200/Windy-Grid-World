{
 "cells": [
  {
   "cell_type": "markdown",
   "metadata": {},
   "source": [
    "# Introduction\n",
    "\n",
    "Below is a picture of what this environment actually looks like\n",
    "- character will begin at 'S' and terminate at 'G'\n",
    "- numbers on the bottom represent how many squares it will be pushed\n",
    "- only standard moves are used to learn this environment"
   ]
  },
  {
   "cell_type": "markdown",
   "metadata": {},
   "source": [
    "![Windy Grid World](DemoImages/windy_grid_world_.jpg)"
   ]
  },
  {
   "cell_type": "code",
   "execution_count": 1,
   "metadata": {},
   "outputs": [],
   "source": [
    "%matplotlib inline\n",
    "\n",
    "import matplotlib.pyplot as plt\n",
    "import numpy as np\n",
    "from lib.envs.windy_gridworld import WindyGridworldEnv\n",
    "from collections import defaultdict"
   ]
  },
  {
   "cell_type": "code",
   "execution_count": 2,
   "metadata": {},
   "outputs": [],
   "source": [
    "env = WindyGridworldEnv()"
   ]
  },
  {
   "cell_type": "code",
   "execution_count": 3,
   "metadata": {},
   "outputs": [],
   "source": [
    "def epsilon_greedy_policy(Q, state, nA, epsilon):\n",
    "    '''\n",
    "    Create a policy in which epsilon dictates how likely it will \n",
    "    take a random action.\n",
    "\n",
    "    :param Q: links state -> action value (dictionary)\n",
    "    :param state: state character is in (int)\n",
    "    :param nA: number of actions (int)\n",
    "    :param epsilon: chance it will take a random move (float)\n",
    "    :return: probability of each action to be taken (list)\n",
    "    '''\n",
    "    probs = np.ones(nA) * epsilon / nA\n",
    "    best_action = np.argmax(Q[state])\n",
    "    probs[best_action] += 1.0 - epsilon\n",
    "\n",
    "    return probs"
   ]
  },
  {
   "cell_type": "code",
   "execution_count": 4,
   "metadata": {},
   "outputs": [],
   "source": [
    "def Q_learning(episodes, learning_rate, discount, epsilon):\n",
    "    '''\n",
    "    Learn to solve the environment using Q-learning\n",
    "\n",
    "    :param episodes: Number of episodes to run (int)\n",
    "    :param learning_rate: How fast it will converge to a point (float [0, 1])\n",
    "    :param discount: How much future events lose their value (float [0, 1])\n",
    "    :param epsilon: chance a random move is selected (float [0, 1])\n",
    "    :return: x,y points to graph\n",
    "    '''\n",
    "\n",
    "    # Links state to action values\n",
    "    Q = defaultdict(lambda: np.zeros(env.action_space.n))\n",
    "\n",
    "    # Points to plot\n",
    "    # number of episodes\n",
    "    x = np.arange(episodes)\n",
    "    # Number of steps\n",
    "    y = np.zeros(episodes)\n",
    "\n",
    "    for episode in range(episodes):\n",
    "        state = env.reset()\n",
    "\n",
    "        for step in range(10000):\n",
    "\n",
    "            # Select and take action\n",
    "            probs = epsilon_greedy_policy(Q, state, env.action_space.n, epsilon)\n",
    "            action = np.random.choice(np.arange(len(probs)), p=probs)\n",
    "            next_state, reward, done, _ = env.step(action)\n",
    "\n",
    "            # TD Update\n",
    "            td_target = reward + discount * np.amax(Q[next_state])\n",
    "            td_error = td_target - Q[state][action]\n",
    "            Q[state][action] += learning_rate * td_error\n",
    "\n",
    "            if done:\n",
    "                y[episode] = step\n",
    "                break\n",
    "\n",
    "            state = next_state\n",
    "\n",
    "    return x, y"
   ]
  },
  {
   "cell_type": "code",
   "execution_count": 5,
   "metadata": {},
   "outputs": [],
   "source": [
    "def Q_learning_lambda(episodes, learning_rate, discount, epsilon, _lambda):\n",
    "    '''\n",
    "    Learns to solve the environment using Q(λ)\n",
    "\n",
    "    :param episodes: Number of episodes to run (int)\n",
    "    :param learning_rate: How fast it will converge to a point (float [0, 1])\n",
    "    :param discount: How much future events lose their value (float [0, 1])\n",
    "    :param epsilon: chance a random move is selected (float [0, 1])\n",
    "    :param _lambda: How much credit to give states leading up to reward (float [0, 1])\n",
    "    \n",
    "    :return: x,y points to graph\n",
    "    '''\n",
    "\n",
    "    # Link state to action values\n",
    "    Q = defaultdict(lambda: np.zeros(env.action_space.n))\n",
    "    # Eligibility trace\n",
    "    e = defaultdict(lambda: np.zeros(env.action_space.n))\n",
    "    \n",
    "    # Points to plot\n",
    "    # number of episodes\n",
    "    x = np.arange(episodes)\n",
    "    # number of steps\n",
    "    y = np.zeros(episodes)\n",
    "\n",
    "    for episode in range(episodes):\n",
    "        state = env.reset()\n",
    "\n",
    "        # Select action\n",
    "        probs = epsilon_greedy_policy(Q, state, env.action_space.n, epsilon)\n",
    "        action = np.random.choice(len(probs), p=probs)\n",
    "\n",
    "        for step in range(10000):\n",
    "            \n",
    "            # Take action\n",
    "            next_state, reward, done, _ = env.step(action)\n",
    "\n",
    "            # Select next action\n",
    "            probs = epsilon_greedy_policy(Q, next_state, env.action_space.n, epsilon)\n",
    "            next_action = np.random.choice(len(probs), p=probs)\n",
    "\n",
    "            # Get update value\n",
    "            best_next_action = np.argmax(Q[next_state])\n",
    "            td_target = reward + discount * Q[next_state][best_next_action]\n",
    "            td_error = td_target - Q[state][action]\n",
    "\n",
    "            e[state][action] += 1\n",
    "\n",
    "            # Update all states\n",
    "            for s in Q:\n",
    "                for a in range(len(Q[s])):\n",
    "                    \n",
    "                    # Update Q value based on eligibility trace\n",
    "                    Q[s][a] += learning_rate * td_error * e[s][a]\n",
    "                    \n",
    "                    # Decay eligibility trace if best action is taken\n",
    "                    if next_action is best_next_action:\n",
    "                        e[s][a] = discount * _lambda * e[s][a]\n",
    "                    # Reset eligibility trace if random action taken\n",
    "                    else:\n",
    "                        e[s][a] = 0\n",
    "\n",
    "            if done:\n",
    "                y[episode] = step\n",
    "                e.clear()\n",
    "                break\n",
    "\n",
    "            # Update action and state\n",
    "            action = next_action\n",
    "            state = next_state\n",
    "\n",
    "    return x, y"
   ]
  },
  {
   "cell_type": "code",
   "execution_count": 6,
   "metadata": {},
   "outputs": [],
   "source": [
    "episodes = 100\n",
    "learning_rate = 0.5\n",
    "discount = 0.9\n",
    "epsilon = 0.05\n",
    "_lambda = 0.9"
   ]
  },
  {
   "cell_type": "code",
   "execution_count": 7,
   "metadata": {},
   "outputs": [],
   "source": [
    "x, y = Q_learning(episodes, learning_rate, discount, epsilon)"
   ]
  },
  {
   "cell_type": "code",
   "execution_count": 8,
   "metadata": {},
   "outputs": [],
   "source": [
    "a, b = Q_learning_lambda(episodes, learning_rate, discount, epsilon, _lambda)"
   ]
  },
  {
   "cell_type": "code",
   "execution_count": 9,
   "metadata": {
    "scrolled": false
   },
   "outputs": [
    {
     "data": {
      "image/png": "[encoded data removed]",
      "text/plain": [
       "<matplotlib.figure.Figure at 0x11490d350>"
      ]
     },
     "metadata": {},
     "output_type": "display_data"
    }
   ],
   "source": [
    "_, ax = plt.subplots()\n",
    "ax.plot(x, y)\n",
    "ax.plot(a, b)\n",
    "\n",
    "ax.set(xlabel='Episodes', ylabel='steps',\n",
    "       title='Episodes vs steps')\n",
    "ax.grid()\n",
    "\n",
    "plt.show()"
   ]
  },
  {
   "cell_type": "code",
   "execution_count": 10,
   "metadata": {},
   "outputs": [
    {
     "name": "stdout",
     "output_type": "stream",
     "text": [
      "1 loop, best of 3: 354 ms per loop\n"
     ]
    }
   ],
   "source": [
    "%%timeit\n",
    "Q_learning(episodes, learning_rate, discount, epsilon)"
   ]
  },
  {
   "cell_type": "code",
   "execution_count": 11,
   "metadata": {},
   "outputs": [
    {
     "name": "stdout",
     "output_type": "stream",
     "text": [
      "1 loop, best of 3: 1.98 s per loop\n"
     ]
    }
   ],
   "source": [
    "%%timeit\n",
    "Q_learning_lambda(episodes, learning_rate, discount, epsilon, _lambda)"
   ]
  },
  {
   "cell_type": "markdown",
   "metadata": {},
   "source": [
    "# Conclusion\n",
    "\n",
    "Comparison between Q and Q(λ)\n",
    "- steps per episode stay about the same\n",
    "- the time it takes to complete Q(λ) is **significantly** higher\n",
    "\n",
    "**Note**: Currently not sure if Q(λ) is implemented correctly at the moment"
   ]
  },
  {
   "cell_type": "markdown",
   "metadata": {},
   "source": [
    "# Optimal Route\n",
    "![Windy Grid World Solution](DemoImages/windy_grid_world_solution.png)"
   ]
  }
 ],
 "metadata": {
  "kernelspec": {
   "display_name": "Python 2",
   "language": "python",
   "name": "python2"
  },
  "language_info": {
   "codemirror_mode": {
    "name": "ipython",
    "version": 2
   },
   "file_extension": ".py",
   "mimetype": "text/x-python",
   "name": "python",
   "nbconvert_exporter": "python",
   "pygments_lexer": "ipython2",
   "version": "2.7.14"
  }
 },
 "nbformat": 4,
 "nbformat_minor": 2
}
